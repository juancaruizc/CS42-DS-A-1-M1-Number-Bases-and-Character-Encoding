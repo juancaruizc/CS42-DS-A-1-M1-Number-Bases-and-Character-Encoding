{
  "nbformat": 4,
  "nbformat_minor": 0,
  "metadata": {
    "colab": {
      "name": "CS42: DS & A 1: M1: Number Bases and Character Encoding",
      "provenance": [],
      "include_colab_link": true
    },
    "kernelspec": {
      "name": "python3",
      "display_name": "Python 3"
    },
    "language_info": {
      "name": "python"
    }
  },
  "cells": [
    {
      "cell_type": "markdown",
      "metadata": {
        "id": "view-in-github",
        "colab_type": "text"
      },
      "source": [
        "<a href=\"https://colab.research.google.com/github/juancaruizc/CS42-DS-A-1-M1-Number-Bases-and-Character-Encoding/blob/main/CS42_DS_%26_A_1_M1_Number_Bases_and_Character_Encoding.ipynb\" target=\"_parent\"><img src=\"https://colab.research.google.com/assets/colab-badge.svg\" alt=\"Open In Colab\"/></a>"
      ]
    },
    {
      "cell_type": "markdown",
      "metadata": {
        "id": "D2-61BsMzGSF"
      },
      "source": [
        "# Number Bases and Character Encoding\n",
        "\n",
        "* 32-bit vs 64-bit\n",
        "* Very basically how computer memory works\n",
        "* How that relates to variables and arrays\n",
        "* Number bases\n",
        "* Character Encoding\n",
        "\n",
        "**Attendance Code: 7825**\n",
        "\n",
        "## \"Bits\" of a CPU\n",
        "\n",
        "_Bit_ is short for _binary digit_.\n",
        "\n",
        "```\n",
        "00000000\n",
        "00000001\n",
        "10111010   8 bits is a \"byte\"\n",
        "11111110\n",
        "11111111\n",
        "```\n",
        "\n",
        "16 bits\n",
        "\n",
        "```\n",
        "1111111111111111\n",
        "```\n",
        "\n",
        "Computers were faster at processing numbers of this size.\n",
        "\n",
        "The number of \"bits\" your CPU is advertised as having corresponds to the maximum size of number it's comfortable/quickly processing at once.\n",
        "\n",
        "32 bits, 386 CPU\n",
        "```\n",
        "11111111111111111111111111111111  ~4 billion in decimal\n",
        "```\n",
        "\n",
        "64 bits:\n",
        "\n",
        "```\n",
        "1111111111111111111111111111111111111111111111111111111111111111\n",
        "```\n",
        "\n",
        "More is faster.\n",
        "\n",
        "Also the number of bits tends to correlate with how much RAM you can theoretically have. In practice, this is limited by the motherboard."
      ]
    },
    {
      "cell_type": "code",
      "metadata": {
        "colab": {
          "base_uri": "https://localhost:8080/"
        },
        "id": "vYuiXBRMzBy7",
        "outputId": "44170f41-081b-490c-e5ed-28daa6a50dff"
      },
      "source": [
        "2**512\n"
      ],
      "execution_count": null,
      "outputs": [
        {
          "output_type": "execute_result",
          "data": {
            "text/plain": [
              "13407807929942597099574024998205846127479365820592393377723561443721764030073546976801874298166903427690031858186486050853753882811946569946433649006084096"
            ]
          },
          "metadata": {
            "tags": []
          },
          "execution_count": 7
        }
      ]
    },
    {
      "cell_type": "markdown",
      "metadata": {
        "id": "JXpBumDa54fs"
      },
      "source": [
        "# Memory Stuff\n",
        "\n",
        "What is it, what does it look like from programmer perspective?\n",
        "\n",
        "Memory is like a big, giant, all-encompassing _array_.\n",
        "\n",
        "With arrays, we have:\n",
        "\n",
        "* An index\n",
        "* A value stored at that index\n",
        "\n",
        "```\n",
        "a = [3,7,9]\n",
        "\n",
        "a[0]  # 3\n",
        "a[2]  # 9\n",
        "```\n",
        "\n",
        "With memory (RAM--Random Access Memory), we have:\n",
        "\n",
        "* An address/location/pointer (the index)\n",
        "* A byte stored at that index (the value)\n",
        "\n",
        "It always* takes the same amount of time to get a byte from anywhere in RAM--if you know the address.\n",
        "\n",
        "Back in programmer land--far away from the hardware...\n",
        "\n",
        "We have some array:\n",
        "\n",
        "```\n",
        "a = [7,8,3,6,2]\n",
        "```\n",
        "\n",
        "All these elements get put into memory sequentially.\n",
        "\n",
        "Deep down, the langauge needs to track 2 things:\n",
        "\n",
        "* The starting address of the array/address of the 0th element\n",
        "* The length of the array\n",
        "\n",
        "If the starting address (address of index 0) is 43453\n",
        "\n",
        "What's the address of element at index 2?\n",
        "\n",
        "To get some data:\n",
        "\n",
        "* Take the base address of the array\n",
        "* Add on the index number (0-based)\n",
        "* Get the value from the result address\n"
      ]
    },
    {
      "cell_type": "markdown",
      "metadata": {
        "id": "SN5YJyPtD0lX"
      },
      "source": [
        "# Number Bases\n",
        "\n",
        "These are like numbers in different \"languages\".\n",
        "\n",
        "```\n",
        "binary  decimal  hex\n",
        "1100      12      C   <-- these are all the same value\n",
        "```\n",
        "\n",
        "|Number base|Digits|Human Name|Prefx|\n",
        "|-|-|-|-|\n",
        "|2|0,1|Binary|`0b`|\n",
        "|8|0-7|Octal|`0o`|\n",
        "|10|0-9|Decimal|Nothing|\n",
        "|16|0-9,A-F|Hexadecimal, Hex|`0x`|\n",
        "|64|a bunch of things|Base-64|Nothing|\n",
        "\n",
        "**The number base matters when you write the number down.**\n",
        "\n",
        "Everyone assumes you mean base 10 when you just write a number.\n",
        "\n",
        "3490\n",
        "\n",
        "You have to prefix the number with an indicator of the base. (No prefix means base 10.)\n",
        "\n",
        "If you want to learn about negative numbers in binary, look up _Two's Complement_.\n",
        "\n",
        "If you want to learn about fractions, look up _floating point arithmetic_ or _IEEE-754_.  Heavy reading.\n",
        "\n"
      ]
    },
    {
      "cell_type": "code",
      "metadata": {
        "colab": {
          "base_uri": "https://localhost:8080/"
        },
        "id": "1EuSA-UY6UfT",
        "outputId": "b96a358d-e83a-436d-d051-1b449c9693cb"
      },
      "source": [
        "# How to enter different number bases into your code\n",
        "\n",
        "# Both lines output in decimal by default\n",
        "print(  1100)   # no prefix--decimal\n",
        "print(0b1100)   # 0b prefix--binary\n",
        "print(0x1100)   # 0x prefix--hex"
      ],
      "execution_count": null,
      "outputs": [
        {
          "output_type": "stream",
          "text": [
            "1100\n",
            "12\n",
            "4352\n"
          ],
          "name": "stdout"
        }
      ]
    },
    {
      "cell_type": "code",
      "metadata": {
        "colab": {
          "base_uri": "https://localhost:8080/"
        },
        "id": "lNKuH_uWIA6m",
        "outputId": "e2db504b-159f-4b61-e0ea-ffacc3135214"
      },
      "source": [
        "0b1100 == 12"
      ],
      "execution_count": null,
      "outputs": [
        {
          "output_type": "execute_result",
          "data": {
            "text/plain": [
              "True"
            ]
          },
          "metadata": {
            "tags": []
          },
          "execution_count": 14
        }
      ]
    },
    {
      "cell_type": "code",
      "metadata": {
        "colab": {
          "base_uri": "https://localhost:8080/"
        },
        "id": "nOdJ37bFIkVJ",
        "outputId": "9b084ef0-6f6c-48cb-ad03-303449ab65d8"
      },
      "source": [
        "# Converting output to different bases\n",
        "\n",
        "print(bin(12))    # Binary\n",
        "print(f\"{12:b}\")  # Also binary\n",
        "\n",
        "print(hex(12))    # Hex\n",
        "print(f\"{12:x}\")  # Also hex\n",
        "\n",
        "n = 2347892374\n",
        "s = f\"{n:b}\"\n",
        "\n",
        "print(s)   # s is a string\n",
        "\n",
        "# Let's change the last number from 0 to 1\n",
        "\n",
        "s2 = s[:-1] + \"1\"\n",
        "\n",
        "print(s2)\n",
        "\n",
        "# Convert binary number in string s2 back to an integer\n",
        "\n",
        "n2 = int(s2, 2)  # Second argument is the base for conversion\n",
        "\n",
        "print(n2)\n",
        "print(n2+30)"
      ],
      "execution_count": null,
      "outputs": [
        {
          "output_type": "stream",
          "text": [
            "0b1100\n",
            "1100\n",
            "0xc\n",
            "c\n",
            "10001011111100011111111010010110\n",
            "10001011111100011111111010010111\n",
            "2347892375\n",
            "2347892405\n"
          ],
          "name": "stdout"
        }
      ]
    },
    {
      "cell_type": "code",
      "metadata": {
        "colab": {
          "base_uri": "https://localhost:8080/"
        },
        "id": "HjpIWoFwLI43",
        "outputId": "2caf25c1-a3c3-492b-d4b3-1e88ce6d6567"
      },
      "source": [
        "print(int(\"1100\"))\n",
        "print(int(\"1100\", 2))"
      ],
      "execution_count": null,
      "outputs": [
        {
          "output_type": "stream",
          "text": [
            "1100\n",
            "12\n"
          ],
          "name": "stdout"
        }
      ]
    },
    {
      "cell_type": "markdown",
      "metadata": {
        "id": "hypPTrBYLtf_"
      },
      "source": [
        "# How to Count\n",
        "\n",
        "```\n",
        "  0\n",
        "  1\n",
        "  2\n",
        "  3\n",
        "  4\n",
        "  5\n",
        "  6\n",
        "  7\n",
        "  8\n",
        "  9\n",
        " 10  <-- we've run out of single digits, have to add another\n",
        " 11\n",
        " 12  1 ten and 2 ones -> 1*10 + 2*1 = 12\n",
        " .\n",
        " .\n",
        " .\n",
        " 98\n",
        " 99 <-- out of digits again\n",
        "100\n",
        "\n",
        "512  5 hundreds, 1 ten, and 2 ones   5*100 + 1*10 + 2*1 = 512\n",
        "```\n",
        "\n",
        "All the number bases work like this.\n",
        "\n",
        "You count up until you run out of digits. Then you add a new place.\n",
        "\n",
        "The places are powers of the base.\n",
        "\n",
        "```\n",
        "Binary\n",
        "\n",
        "    0\n",
        "    1\n",
        "   10\n",
        "   11\n",
        "  100\n",
        "  101\n",
        "  110\n",
        "  111\n",
        " 1000\n",
        "\n",
        " 1011  1 eight, 0 fours, 1 two, 1 one = 11 decimal\n",
        "```\n",
        "\n",
        "```\n",
        "Hex\n",
        "\n",
        " 0\n",
        " 1\n",
        " 2\n",
        " 3\n",
        " 4\n",
        " 5\n",
        " 6\n",
        " 7\n",
        " 8\n",
        " 9\n",
        " A    decimal 10\n",
        " B\n",
        " C\n",
        " D\n",
        " E\n",
        " F    decimal 15\n",
        "10\n",
        "11\n",
        "12\n",
        "13\n",
        "```\n",
        "\n",
        "## Hex colors in CSS\n",
        "\n",
        "```\n",
        "x {\n",
        "    color: #ff00f7;   /* color code! */\n",
        "}\n",
        "```\n",
        "\n",
        "```\n",
        "RR GG BB\n",
        "ff 00 f7\n",
        "```\n"
      ]
    },
    {
      "cell_type": "code",
      "metadata": {
        "colab": {
          "base_uri": "https://localhost:8080/"
        },
        "id": "V-9liwmPN5TY",
        "outputId": "d8149ce0-1dda-4c41-b140-735a09bd10d2"
      },
      "source": [
        "print(0xff, 0x00, 0xf7)\n",
        "\n",
        "print(0b11111111)\n",
        "\n",
        "\n",
        "print(0b1100 + 5)"
      ],
      "execution_count": null,
      "outputs": [
        {
          "output_type": "stream",
          "text": [
            "255 0 247\n",
            "255\n",
            "17\n"
          ],
          "name": "stdout"
        }
      ]
    },
    {
      "cell_type": "markdown",
      "metadata": {
        "id": "DpL1zwruPN8g"
      },
      "source": [
        "# Character encoding\n",
        "\n",
        "For every character there is a number.\n",
        "\n",
        "Computers only know numbers.\n",
        "\n",
        "To get a number for a given character: `ord()`\n",
        "\n",
        "To get a character for a given number: `chr()`\n",
        "\n",
        "ASCII is an older standard that's really popular in North America.\n",
        "\n",
        "Unicode is an extension of ASCII... it's massive.\n",
        "\n",
        "Encoding: how the character value is represented in memory, UTF-8 is super popular. (Also UTF-16 and UTF-32 exists, ASCII is also an encoding, EBCDIC is an old encoding... scores of encodings.) Most people use UTF-8.\n"
      ]
    },
    {
      "cell_type": "markdown",
      "metadata": {
        "id": "k6WPoM4mIhyf"
      },
      "source": [
        ""
      ]
    },
    {
      "cell_type": "code",
      "metadata": {
        "colab": {
          "base_uri": "https://localhost:8080/"
        },
        "id": "GZIrg_G5Ps24",
        "outputId": "cd4b3294-4ac6-4b9c-da00-873dc82e402e"
      },
      "source": [
        "print(ord(\"B\"))   # Unicode/ASCII value for B\n",
        "print(ord(\"b\"))   # Unicode/ASCII value for b\n",
        "print(ord(\"/\"))   # Unicode/ASCII value for /\n",
        "\n",
        "\n",
        "x = ord(\"B\")\n",
        "x += 1    # 67\n",
        "\n",
        "print(chr(x))\n",
        "\n",
        "# Once we have it as a number, we can print it out in any base\n",
        "x = ord(\"B\")\n",
        "\n",
        "print(f\"{x:b}\")\n",
        "\n",
        "\n",
        "# Unicode has a lot of characters\n",
        "print(chr(0x20ac))\n",
        "\n",
        "print(hex(ord(\"€\")))"
      ],
      "execution_count": null,
      "outputs": [
        {
          "output_type": "stream",
          "text": [
            "66\n",
            "98\n",
            "47\n",
            "C\n",
            "1000010\n",
            "€\n",
            "0x20ac\n"
          ],
          "name": "stdout"
        }
      ]
    },
    {
      "cell_type": "code",
      "metadata": {
        "id": "sgarQFD7QLzE"
      },
      "source": [
        ""
      ],
      "execution_count": null,
      "outputs": []
    }
  ]
}